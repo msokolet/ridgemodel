{
 "cells": [
  {
   "cell_type": "markdown",
   "id": "ancient-voluntary",
   "metadata": {},
   "source": [
    "# Make events.npy and opts.json"
   ]
  },
  {
   "cell_type": "code",
   "execution_count": 8,
   "id": "manufactured-account",
   "metadata": {},
   "outputs": [],
   "source": [
    "import pandas as pd\n",
    "import json\n",
    "from os.path import join as pjoin\n",
    "import numpy as np"
   ]
  },
  {
   "cell_type": "code",
   "execution_count": 9,
   "id": "demanding-johnston",
   "metadata": {},
   "outputs": [],
   "source": [
    "# Create events.npy for Joao's data\n",
    "\n",
    "local_disk = 'D:\\Churchland\\Widefield\\Test\\Test'\n",
    "\n",
    "trial_info = pd.read_csv(\n",
    "    pjoin(local_disk,'trial_info.csv'),\n",
    "    converters=dict(ch1=lambda x: np.array([int(i) for i in x.replace('[','').replace(']','').split(' ') if i != '']),\n",
    "                    ch2=lambda x: np.array([int(i) for i in x.replace('[','').replace(']','').split(' ') if i != '']),\n",
    "                    stim_onset=lambda x: np.array([int(i) for i in x.replace('[','').replace(']','').split(' ') if i != ''])))\n",
    "# get the onsets of the stimulus for each trial\n",
    "stimframe_onsets = trial_info[['ch1','stim_onset']].apply(lambda x: np.where(x[0]<x[1][0])[0][-1],axis=1)\n",
    "#the stim onset is actually this plus the onset of the trial\n",
    "trial_onsets = np.load(pjoin(local_disk,'trial_onsets.npy'))\n",
    "stim_onsets = np.array(trial_onsets['iframe'] + stimframe_onsets)\n",
    "\n",
    "\n",
    "\n",
    "event = np.dtype([('label', np.unicode, 30),\n",
    "                 ('type', np.ubyte),\n",
    "                 ('iframes', 'object')])\n",
    "\n",
    "events = np.array([('stim', 2, stim_onsets)],dtype=event)\n",
    "\n",
    "\n",
    "np.save(pjoin(local_disk,'events.npy'),events)\n",
    "\n",
    "# Create opts.json for Joao's data\n",
    "\n",
    "opts={}\n",
    "opts['s_post_time']=6\n",
    "opts['m_pre_time']=0.5\n",
    "opts['m_post_time']=2\n",
    "opts['n_folds']=10\n",
    "opts['fs']=30\n",
    "\n",
    "opts_fname = pjoin(local_disk,'opts.json')\n",
    "with open(opts_fname, 'w') as opts_f:\n",
    "    json.dump(opts, opts_f, indent=4)\n"
   ]
  },
  {
   "cell_type": "code",
   "execution_count": 13,
   "id": "minor-edinburgh",
   "metadata": {},
   "outputs": [],
   "source": [
    "# Create events.npy for your own data\n",
    "\n",
    "local_disk = 'D:\\CompressedWidefield\\A28'\n",
    "\n",
    "\n",
    "\n",
    "\n",
    "# Create opts.json for your own data\n",
    "\n",
    "opts={}\n",
    "opts['s_post_time']=0.5\n",
    "opts['m_pre_time']=0.5\n",
    "opts['m_post_time']=2\n",
    "opts['n_folds']=10\n",
    "opts['fs']=30\n",
    "\n",
    "opts_fname = pjoin(local_disk,'opts.json')\n",
    "with open(opts_fname, 'w') as opts_f:\n",
    "    json.dump(opts, opts_f, indent=4)"
   ]
  }
 ],
 "metadata": {
  "kernelspec": {
   "display_name": "Python 3",
   "language": "python",
   "name": "python3"
  },
  "language_info": {
   "codemirror_mode": {
    "name": "ipython",
    "version": 3
   },
   "file_extension": ".py",
   "mimetype": "text/x-python",
   "name": "python",
   "nbconvert_exporter": "python",
   "pygments_lexer": "ipython3",
   "version": "3.8.5"
  }
 },
 "nbformat": 4,
 "nbformat_minor": 5
}
