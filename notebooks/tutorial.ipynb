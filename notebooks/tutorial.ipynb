{
 "cells": [
  {
   "cell_type": "markdown",
   "id": "cultural-choice",
   "metadata": {},
   "source": [
    "# Tutorial for ridge regression model"
   ]
  },
  {
   "cell_type": "markdown",
   "id": "protecting-mileage",
   "metadata": {},
   "source": [
    "Demo code for how to use the linear encoding model used in the study \n",
    "‘Single-trial neural dynamics are dominated by richly varied movements’ \n",
    "by Musall, Kaufman et al., 2019. \n",
    "\n",
    "This code shows how to build a design matrix based on task and movement\n",
    "events, runs the linear model, shows how to analyze the fitted beta weight\n",
    "and quantify cross-validated explained variance\n",
    "\n",
    "Adapted to Python by Michael Sokoletsky, 2021\n"
   ]
  },
  {
   "cell_type": "code",
   "execution_count": 3,
   "id": "diverse-lincoln",
   "metadata": {},
   "outputs": [],
   "source": [
    "# Get some data from example recording\n",
    "        \n",
    "from ridgemodel import *\n",
    "\n",
    "localdisk = 'D:\\CompressedWidefield\\A28' # path to recording\n",
    "\n",
    "r_stack = load_stack(localdisk) # load image stock\n",
    "\n",
    "opts_fname = pjoin(localdisk,'opts.json')\n",
    "with open(opts_fname, 'r') as opts_f:\n",
    "    opts = json.load(opts_f) # load some options\n",
    "    \n",
    "trial_onsets = np.load(pjoin(localdisk,'trial_onsets.npy'))['iframe'] # load trial onsets\n",
    "trial_onsets = np.append(trial_onsets, len(r_stack)) # append last frame"
   ]
  },
  {
   "cell_type": "code",
   "execution_count": 4,
   "id": "behind-insured",
   "metadata": {},
   "outputs": [
    {
     "name": "stderr",
     "output_type": "stream",
     "text": [
      "Building design matrix: 100%|████████████████████████████████████████████████████████████| 4/4 [00:00<00:00, 40.91it/s]\n"
     ]
    }
   ],
   "source": [
    "# Get the events\n",
    "events_f = np.load(pjoin(localdisk,'events.npy'), allow_pickle=True)\n",
    "event_frames = events_f['iframes'] \n",
    "event_types = events_f['type']\n",
    "event_labels = events_f['label']\n",
    "\n",
    "# Make design matrix\n",
    "full_R, event_idx = make_design_matrix(event_frames, event_types, trial_onsets, opts) # make design matrix for events\n"
   ]
  },
  {
   "cell_type": "code",
   "execution_count": 5,
   "id": "hollow-picking",
   "metadata": {},
   "outputs": [
    {
     "data": {
      "image/png": "[encoded data removed]",
      "text/plain": [
       "<Figure size 648x360 with 1 Axes>"
      ]
     },
     "metadata": {
      "needs_background": "light"
     },
     "output_type": "display_data"
    }
   ],
   "source": [
    "# Run QR and check for rank-defficiency. This will show whether a given regressor is highly collinear with other regressors in the design matrix.\n",
    "\n",
    "\"\"\"\n",
    "This section plots regressor orthogonality. The resulting plot ranges from 0 to 1 for each regressor, with 1 being\n",
    "fully orthogonal to all preceeding regressors in the matrix and 0 being\n",
    "fully redundant. Having fully redundant regressors in the matrix will\n",
    "break the model, so those regressors are removed. In\n",
    "practice, you should understand where the redundancy is coming from and\n",
    "change your model design to avoid it in the first place!\n",
    "\"\"\"\n",
    "\n",
    "%matplotlib inline \n",
    "\n",
    "full_QRR, full_R, event_idx = calc_regressor_orthogonality(full_R, event_idx, rmv = True) # orthogonalize normalized design matrix and remove redundant regressors\n",
    "\n",
    "plot_regressor_orthogonality(full_QRR) # show how orthogonal individual regressors are to the rest of the matrix\n",
    "\n",
    "np.savez(pjoin(localdisk, 'design'), full_R=full_R, event_idx=event_idx, event_labels=event_labels, event_types = event_types, full_QRR=full_QRR) # save design matrix and event labels\n"
   ]
  },
  {
   "cell_type": "code",
   "execution_count": 6,
   "id": "formal-shoot",
   "metadata": {},
   "outputs": [
    {
     "name": "stderr",
     "output_type": "stream",
     "text": [
      "Performing cross-validation: 100%|█████████████████████████████████████████████████████| 10/10 [00:11<00:00,  1.15s/it]\n",
      "C:\\Users\\michaeso.WISMAIN\\Anaconda3\\lib\\site-packages\\ridgemodel-0.1-py3.8.egg\\ridgemodel\\utils.py:130: RuntimeWarning: invalid value encountered in true_divide\n",
      "  corr_mat = (cov_P / std_Px_Py).T\n"
     ]
    }
   ],
   "source": [
    "# Run cross-validation\n",
    "\n",
    "# full model - this will take a moment\n",
    "[full_m_stack, full_beta, _, full_idx, full_ridge, full_labels] = cross_val_model(full_R, r_stack, event_labels, event_idx, event_labels, opts['n_folds'])\n",
    "full_cvR2 = model_corr(r_stack, full_m_stack)[0] ** 2 # compare the real and model stacks\n",
    "\n",
    "np.savez(pjoin(localdisk, 'full_m'), U=full_m_stack.U, SVT=full_m_stack.SVT, beta=full_beta, R=full_R, idx=full_idx, ridge=full_ridge, labels=full_labels, cvR2 = full_cvR2) # save the results"
   ]
  },
  {
   "cell_type": "code",
   "execution_count": 7,
   "id": "bound-outline",
   "metadata": {},
   "outputs": [
    {
     "data": {
      "image/png": "[encoded data removed]",
      "text/plain": [
       "<Figure size 648x360 with 1 Axes>"
      ]
     },
     "metadata": {
      "needs_background": "light"
     },
     "output_type": "display_data"
    }
   ],
   "source": [
    "# Show R^2 results\n",
    "\n",
    "%matplotlib inline\n",
    "\n",
    "plot_model_corr(full_cvR2, 'full')"
   ]
  },
  {
   "cell_type": "code",
   "execution_count": null,
   "id": "underlying-destination",
   "metadata": {},
   "outputs": [],
   "source": []
  }
 ],
 "metadata": {
  "kernelspec": {
   "display_name": "Python 3",
   "language": "python",
   "name": "python3"
  },
  "language_info": {
   "codemirror_mode": {
    "name": "ipython",
    "version": 3
   },
   "file_extension": ".py",
   "mimetype": "text/x-python",
   "name": "python",
   "nbconvert_exporter": "python",
   "pygments_lexer": "ipython3",
   "version": "3.8.5"
  }
 },
 "nbformat": 4,
 "nbformat_minor": 5
}
